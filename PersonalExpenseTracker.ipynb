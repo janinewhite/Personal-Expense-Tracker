{
  "nbformat": 4,
  "nbformat_minor": 0,
  "metadata": {
    "colab": {
      "provenance": [],
      "authorship_tag": "ABX9TyM6mc6kENHZIjBU18FZdQbP",
      "include_colab_link": true
    },
    "kernelspec": {
      "name": "python3",
      "display_name": "Python 3"
    },
    "language_info": {
      "name": "python"
    }
  },
  "cells": [
    {
      "cell_type": "markdown",
      "metadata": {
        "id": "view-in-github",
        "colab_type": "text"
      },
      "source": [
        "<a href=\"https://colab.research.google.com/github/janinewhite/Personal-Expense-Tracker/blob/main/PersonalExpenseTracker.ipynb\" target=\"_parent\"><img src=\"https://colab.research.google.com/assets/colab-badge.svg\" alt=\"Open In Colab\"/></a>"
      ]
    },
    {
      "cell_type": "code",
      "execution_count": 1,
      "metadata": {
        "id": "ii99IelpGxC9"
      },
      "outputs": [],
      "source": [
        "import csv\n",
        "import os"
      ]
    },
    {
      "cell_type": "code",
      "source": [
        "expensesFile = \"expenses.csv\"\n",
        "budgetFile = \"budget.txt\"\n",
        "expenses = []\n",
        "budget = 0.0"
      ],
      "metadata": {
        "id": "aJEY7D62HImD"
      },
      "execution_count": 2,
      "outputs": []
    },
    {
      "cell_type": "code",
      "source": [
        "# Save expenses to a CSV file\n",
        "def save_expenses(filename=expensesFile) -> None:\n",
        "    \"\"\"\n",
        "    Saves the current list of expenses to a CSV file.\n",
        "\n",
        "    Args:\n",
        "        filename (str, optional): The name of the file to save the expenses to.\n",
        "                                  Defaults to \"expenses.csv\".\n",
        "    \"\"\"\n",
        "    # Open the file in write mode, ensuring proper newline handling and UTF-8 encoding\n",
        "    with open(filename, mode='w', newline='', encoding='utf-8') as file:\n",
        "        # Define the field names for the CSV header\n",
        "        fieldnames = ['date', 'category', 'amount', 'description']\n",
        "        # Create a DictWriter object to write rows as dictionaries\n",
        "        writer = csv.DictWriter(file, fieldnames=fieldnames)\n",
        "        # Write the header row to the CSV file\n",
        "        writer.writeheader()\n",
        "        # Write each expense dictionary as a row in the CSV file\n",
        "        for expense in expenses:\n",
        "            writer.writerow(expense)\n",
        "    # Print a success message\n",
        "    print(\"✅ Expenses saved.\")"
      ],
      "metadata": {
        "id": "V07NuxClHOac"
      },
      "execution_count": 3,
      "outputs": []
    },
    {
      "cell_type": "code",
      "source": [
        "# Save budget to a text file\n",
        "def save_budget(filename=budgetFile):\n",
        "    \"\"\"\n",
        "    Saves the current budget to a TXT file.\n",
        "\n",
        "    Args:\n",
        "        filename (str, optional): The name of the file to save the budget to.\n",
        "                                  Defaults to \"budget.txt\".\n",
        "    \"\"\"\n",
        "    with open(filename, mode='w', encoding='utf-8') as file:\n",
        "        file.write(str(budget))\n",
        "    # Print a success message\n",
        "    print(\"$ Budget saved.\")"
      ],
      "metadata": {
        "id": "p7gILn63T8Ie"
      },
      "execution_count": 4,
      "outputs": []
    },
    {
      "cell_type": "code",
      "source": [
        "#Save files\n",
        "def save_files() -> None:\n",
        "    \"\"\"\n",
        "    Saves the current expenses and budget to their respective files.\n",
        "    \"\"\"\n",
        "    save_expenses()\n",
        "    save_budget()"
      ],
      "metadata": {
        "id": "gXMxwKxBZY71"
      },
      "execution_count": 5,
      "outputs": []
    },
    {
      "cell_type": "code",
      "source": [
        "# Load expenses from CSV\n",
        "def load_expenses(filename=expensesFile) -> None:\n",
        "    \"\"\"\n",
        "    Loads expenses from a CSV file into the global expenses list.\n",
        "\n",
        "    Args:\n",
        "        filename (str, optional): The name of the file to load expenses from.\n",
        "    \"\"\"\n",
        "    # Check if the specified file exists\n",
        "    if os.path.exists(filename):\n",
        "        # Open the file in read mode with proper newline handling and UTF-8 encoding\n",
        "        with open(filename, mode='r', newline='', encoding='utf-8') as file:\n",
        "            # Create a DictReader object to read rows as dictionaries\n",
        "            reader = csv.DictReader(file)\n",
        "            # Iterate over each row in the CSV file\n",
        "            for row in reader:\n",
        "                try:\n",
        "                    # Append the expense data to the global expenses list\n",
        "                    expenses.append({\n",
        "                        'date': row['date'],\n",
        "                        'category': row['category'],\n",
        "                        'amount': float(row['amount']), # Convert amount to float\n",
        "                        'description': row['description']\n",
        "                    })\n",
        "                except (ValueError, KeyError):\n",
        "                    # Handle cases where the row has missing fields or invalid amount format\n",
        "                    print(\"⚠️ Skipping invalid entry in file.\")\n",
        "    else:\n",
        "        # Print a message if the file does not exist\n",
        "        print(f\"ℹ️ File '{filename}' not found. Starting with an empty expense list.\")"
      ],
      "metadata": {
        "id": "EwLp1ocyHLq9"
      },
      "execution_count": 6,
      "outputs": []
    },
    {
      "cell_type": "code",
      "source": [
        "# Load budget from TXT\n",
        "def load_budget(filename=budgetFile) -> None:\n",
        "    \"\"\"\n",
        "    Loads the budget from a TXT file into the global budget variable.\n",
        "\n",
        "    Args:\n",
        "        filename (str, optional): The name of the file to load the budget from.\n",
        "                                  Defaults to \"budget.txt\".\n",
        "    \"\"\"\n",
        "    global budget  # Declare budget as global to modify the global variable\n",
        "    if os.path.exists(filename):\n",
        "        with open(filename, mode='r', encoding='utf-8') as file:\n",
        "            try:\n",
        "                budget = float(file.read())\n",
        "                print(\"💲 Budget loaded successfully.\")\n",
        "            except ValueError:\n",
        "                print(\"⚠️ Invalid budget format in file. Budget not loaded.\")\n",
        "    else:\n",
        "        print(f\"ℹ️ Budget file '{filename}' not found. Starting with a budget of $0.00.\")\n",
        "        budget = 0.0 # Initialize budget to 0 if file not found"
      ],
      "metadata": {
        "id": "JhBWOhV-0aFr"
      },
      "execution_count": 7,
      "outputs": []
    },
    {
      "cell_type": "code",
      "source": [
        "# Load expenses and budget\n",
        "def load_files() -> None:\n",
        "    \"\"\"\n",
        "    Loads expenses and budget from their respective files.\n",
        "    \"\"\"\n",
        "    load_expenses()\n",
        "    load_budget()"
      ],
      "metadata": {
        "id": "4IJrLq8a1ADU"
      },
      "execution_count": 8,
      "outputs": []
    },
    {
      "cell_type": "code",
      "source": [
        "# Add a new expense\n",
        "def add_expense() -> None:\n",
        "    \"\"\"\n",
        "    Prompts the user to enter details for a new expense and adds it to the global expenses list.\n",
        "    Handles invalid amount input.\n",
        "    \"\"\"\n",
        "    # Get expense details from user input\n",
        "    date = input(\"Enter date (YYYY-MM-DD): \")\n",
        "    category = input(\"Enter category (e.g., Food, Travel): \")\n",
        "    try:\n",
        "        # Attempt to convert amount input to a float\n",
        "        amount = float(input(\"Enter amount spent: \"))\n",
        "    except ValueError:\n",
        "        # Handle invalid amount input\n",
        "        print(\"❌ Invalid amount. Expense not added.\")\n",
        "        return # Exit the function if amount is invalid\n",
        "\n",
        "    description = input(\"Enter a brief description: \")\n",
        "\n",
        "    # Create a dictionary for the new expense\n",
        "    expense = {\n",
        "        'date': date,\n",
        "        'category': category,\n",
        "        'amount': amount,\n",
        "        'description': description\n",
        "    }\n",
        "    # Append the new expense to the global expenses list\n",
        "    expenses.append(expense)\n",
        "    print(\"✅ Expense added.\")"
      ],
      "metadata": {
        "id": "dBi1nJ2uHUTk"
      },
      "execution_count": 9,
      "outputs": []
    },
    {
      "cell_type": "code",
      "source": [
        "# Delete Expense\n",
        "def delete_expense() -> None:\n",
        "    \"\"\"\n",
        "    Displays the current list of expenses and allows the user to select and delete one.\n",
        "    Saves the updated expense list after deletion.\n",
        "    Handles invalid input for selection.\n",
        "    \"\"\"\n",
        "    print(\"\\n🗂️ Select an expense to delete:\")\n",
        "    # Enumerate through the expenses list to display each expense with its index\n",
        "    for i, expense in enumerate(expenses, start=1):\n",
        "        # Print the expense details with formatting\n",
        "        print(f\"{i}. {expense['date']} | {expense['category']} | ${expense['amount']:.2f} | {expense['description']}\")\n",
        "    try:\n",
        "        # Get the index of the expense to delete from user input\n",
        "        index = int(input(\"Enter the number of the expense to delete: \"))\n",
        "        # Check if the entered index is valid\n",
        "        if 1 <= index <= len(expenses):\n",
        "            # Remove the selected expense from the list\n",
        "            removed = expenses.pop(index - 1)\n",
        "            # Print a success message with details of the deleted expense\n",
        "            print(f\"✅ Deleted: {removed['date']} | {removed['category']} | ${removed['amount']:.2f}\")\n",
        "            # Save the updated expenses list to the file\n",
        "            save_expenses()\n",
        "            # Display the updated list of expenses\n",
        "            view_expenses()\n",
        "        else:\n",
        "            # Handle invalid index selection\n",
        "            print(\"❌ Invalid selection.\")\n",
        "    except ValueError:\n",
        "        # Handle non-integer input for selection\n",
        "        print(\"❌ Please enter a valid number.\")"
      ],
      "metadata": {
        "id": "yrAESvr4HXCi"
      },
      "execution_count": 10,
      "outputs": []
    },
    {
      "cell_type": "code",
      "source": [
        "def save_return() -> None:\n",
        "    # Save expenses then return to main menu\n",
        "    save_expenses()\n",
        "    menu()"
      ],
      "metadata": {
        "id": "WcJNlujPIana"
      },
      "execution_count": 11,
      "outputs": []
    },
    {
      "cell_type": "code",
      "source": [
        "def view_expenses() -> None:\n",
        "    \"\"\"\n",
        "    Display all recorded expenses and provide options to delete an expense or return to the main menu.\n",
        "\n",
        "    If no expenses are recorded, a message is displayed. Otherwise, all expenses are listed\n",
        "    with their details (date, category, amount, description).\n",
        "\n",
        "    Returns:\n",
        "        None\n",
        "    \"\"\"\n",
        "    if not expenses:\n",
        "        print(\"📭 No expenses recorded.\")\n",
        "        return\n",
        "\n",
        "    print(\"\\n📋 Your Expenses:\")\n",
        "    for i, expense in enumerate(expenses, start=1):\n",
        "        # Check if expense has all required fields\n",
        "        required_fields = ['date', 'category', 'amount', 'description']\n",
        "        if all(field in expense for field in required_fields):\n",
        "            print(f\"{i}. {expense['date']} | {expense['category']} | \"\n",
        "                  f\"${expense['amount']:.2f} | {expense['description']}\")\n",
        "        else:\n",
        "            print(f\"{i}. ⚠️ Incomplete expense entry.\")\n",
        "\n",
        "    # Display menu options\n",
        "    print(\"\\n📌 Expenses Menu:\")\n",
        "    print(\"1. Delete expense\")\n",
        "    print(\"2. Return to main menu\")\n",
        "\n",
        "    # Handle user choice\n",
        "    choice = input(\"Choose an option (1-2): \")\n",
        "\n",
        "    if choice == '1':\n",
        "        delete_expense()\n",
        "    elif choice == '2':\n",
        "        menu()\n",
        "    else:\n",
        "        print(\"❌ Invalid choice. Please try again.\")"
      ],
      "metadata": {
        "id": "bP4hfY6aI8Vx"
      },
      "execution_count": 12,
      "outputs": []
    },
    {
      "cell_type": "code",
      "source": [
        "# Set monthly budget\n",
        "def set_budget() -> None:\n",
        "    \"\"\"\n",
        "    Prompts the user to enter their monthly budget and updates the global budget variable.\n",
        "    Handles invalid input for the budget amount.\n",
        "    Saves the updated budget after setting it.\n",
        "    \"\"\"\n",
        "    global budget  # Declare budget as global to modify the global variable\n",
        "    try:\n",
        "        # Get budget amount from user input and convert to float\n",
        "        budget = float(input(\"Enter your monthly budget: \"))\n",
        "        # Print a success message with the formatted budget amount\n",
        "        print(f\"✅ Budget set to ${budget:.2f}\")\n",
        "        # Save the updated budget to the file\n",
        "        save_budget()\n",
        "    except ValueError:\n",
        "        # Handle invalid budget input\n",
        "        print(\"❌ Invalid budget amount.\")"
      ],
      "metadata": {
        "id": "Z9xhOgFMI9KV"
      },
      "execution_count": 13,
      "outputs": []
    },
    {
      "cell_type": "code",
      "source": [
        "# Track budget\n",
        "def track_budget() -> None:\n",
        "    \"\"\"\n",
        "    Calculates and displays the total amount spent and compares it to the budget.\n",
        "    \"\"\"\n",
        "    # Calculate the total amount spent by summing up the 'amount' from each expense\n",
        "    total_spent = sum(exp['amount'] for exp in expenses)\n",
        "    print(f\"\\n💰 Total spent: ${total_spent:.2f}\")\n",
        "\n",
        "    # Check if a budget has been set\n",
        "    if budget == 0:\n",
        "        print(\"⚠️ No budget set.\")\n",
        "    # Check if the total spent exceeds the budget\n",
        "    elif total_spent > budget:\n",
        "        print(\"🚨 You have exceeded your budget!\")\n",
        "    # Otherwise, calculate and display the remaining budget\n",
        "    else:\n",
        "        print(f\"🟢 You have ${budget - total_spent:.2f} left for the month.\")"
      ],
      "metadata": {
        "id": "AvT_zWRWJAIu"
      },
      "execution_count": 14,
      "outputs": []
    },
    {
      "cell_type": "code",
      "source": [
        "def budget_menu() -> None:\n",
        "    \"\"\"\n",
        "    Display and handle the budget management menu.\n",
        "\n",
        "    This function shows the current budget, presents options to set a new budget\n",
        "    or return to the main menu, and processes the user's selection.\n",
        "    \"\"\"\n",
        "    track_budget()\n",
        "    # Define menu options\n",
        "    menu_options = {\n",
        "        '1': ('Set budget', set_budget),\n",
        "        '2': ('Return to main menu', save_return),\n",
        "    }\n",
        "    while True:\n",
        "        # Display menu options\n",
        "        print(\"\\n📌 Budget Menu:\")\n",
        "        for key, (description, _) in menu_options.items():\n",
        "            print(f\"{key}. {description}\")\n",
        "        choice = input(f\"Choose an option (1-{len(menu_options)}): \")\n",
        "\n",
        "        if choice in menu_options:\n",
        "            # Execute the function associated with the chosen option\n",
        "            _, function = menu_options[choice]\n",
        "            function()\n",
        "            if choice == '2':\n",
        "                break\n",
        "        else:\n",
        "            print(\"❌ Invalid choice. Please try again.\")"
      ],
      "metadata": {
        "id": "Dn7WzHRYJCp4"
      },
      "execution_count": 15,
      "outputs": []
    },
    {
      "cell_type": "code",
      "source": [
        "def menu() -> None:\n",
        "    \"\"\"\n",
        "    Display an interactive menu for the expense tracker application.\n",
        "    This function loads expenses from storage and presents a menu with options\n",
        "    to add, view, and track expenses, as well as save data and exit the application.\n",
        "    \"\"\"\n",
        "    load_files()\n",
        "    # Define menu options as a dictionary for better maintainability\n",
        "    menu_options = {\n",
        "        '1': ('Add expense', add_expense),\n",
        "        '2': ('View expenses', view_expenses),\n",
        "        '3': ('Track budget', budget_menu),\n",
        "        '4': ('Save expenses and budget', save_files),\n",
        "        '5': ('Save expenses and budget then exit', save_files),\n",
        "        '6': ('Exit (no save)', None)\n",
        "    }\n",
        "    while True:\n",
        "        # Display menu\n",
        "        print(\"\\n📌 Expense Tracker Menu:\")\n",
        "        for key, (description, _) in menu_options.items():\n",
        "            print(f\"{key}. {description}\")\n",
        "\n",
        "        choice = input(f\"Choose an option (1-{len(menu_options)}): \")\n",
        "\n",
        "        if choice in menu_options:\n",
        "            if choice != '6':\n",
        "                # Execute the function associated with the chosen option\n",
        "                _, function = menu_options[choice]\n",
        "                function()\n",
        "            if choice == '5' or choice =='6':\n",
        "                print(\"👋 Goodbye!\")\n",
        "                break\n",
        "        else:\n",
        "            print(\"❌ Invalid choice. Please try again.\")"
      ],
      "metadata": {
        "id": "FumVl1AMJDhq"
      },
      "execution_count": 16,
      "outputs": []
    },
    {
      "cell_type": "code",
      "source": [
        "# Run the program\n",
        "if __name__ == \"__main__\":\n",
        "    menu()"
      ],
      "metadata": {
        "colab": {
          "base_uri": "https://localhost:8080/"
        },
        "id": "swF7o5WdJHtc",
        "outputId": "5a93cf0b-7498-4e2d-e43c-1ba81c4c54bb"
      },
      "execution_count": 17,
      "outputs": [
        {
          "output_type": "stream",
          "name": "stdout",
          "text": [
            "ℹ️ File 'expenses.csv' not found. Starting with an empty expense list.\n",
            "ℹ️ Budget file 'budget.txt' not found. Starting with a budget of $0.00.\n",
            "\n",
            "📌 Expense Tracker Menu:\n",
            "1. Add expense\n",
            "2. View expenses\n",
            "3. Track budget\n",
            "4. Save expenses\n",
            "5. Save expenses and exit\n",
            "6. Exit (no save)\n",
            "Choose an option (1-6): 5\n",
            "✅ Expenses saved.\n",
            "👋 Goodbye!\n"
          ]
        }
      ]
    }
  ]
}